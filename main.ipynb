{
 "cells": [
  {
   "cell_type": "code",
   "execution_count": 1,
   "metadata": {},
   "outputs": [
    {
     "name": "stdout",
     "output_type": "stream",
     "text": [
      "Requirement already satisfied: ultralytics in /opt/anaconda3/lib/python3.9/site-packages (8.0.33)\n",
      "Requirement already satisfied: matplotlib>=3.2.2 in /opt/anaconda3/lib/python3.9/site-packages (from ultralytics) (3.4.3)\n",
      "Requirement already satisfied: numpy>=1.18.5 in /opt/anaconda3/lib/python3.9/site-packages (from ultralytics) (1.22.4)\n",
      "Requirement already satisfied: opencv-python>=4.6.0 in /opt/anaconda3/lib/python3.9/site-packages (from ultralytics) (4.8.0.76)\n",
      "Requirement already satisfied: Pillow>=7.1.2 in /opt/anaconda3/lib/python3.9/site-packages (from ultralytics) (9.4.0)\n",
      "Requirement already satisfied: PyYAML>=5.3.1 in /opt/anaconda3/lib/python3.9/site-packages (from ultralytics) (6.0)\n",
      "Requirement already satisfied: requests>=2.23.0 in /opt/anaconda3/lib/python3.9/site-packages (from ultralytics) (2.26.0)\n",
      "Requirement already satisfied: scipy>=1.4.1 in /opt/anaconda3/lib/python3.9/site-packages (from ultralytics) (1.7.1)\n",
      "Requirement already satisfied: torch>=1.7.0 in /opt/anaconda3/lib/python3.9/site-packages (from ultralytics) (1.13.1)\n",
      "Requirement already satisfied: torchvision>=0.8.1 in /opt/anaconda3/lib/python3.9/site-packages (from ultralytics) (0.14.1)\n",
      "Requirement already satisfied: tqdm>=4.64.0 in /opt/anaconda3/lib/python3.9/site-packages (from ultralytics) (4.64.1)\n",
      "Requirement already satisfied: tensorboard>=2.4.1 in /opt/anaconda3/lib/python3.9/site-packages (from ultralytics) (2.8.0)\n",
      "Requirement already satisfied: pandas>=1.1.4 in /opt/anaconda3/lib/python3.9/site-packages (from ultralytics) (1.3.4)\n",
      "Requirement already satisfied: seaborn>=0.11.0 in /opt/anaconda3/lib/python3.9/site-packages (from ultralytics) (0.11.2)\n",
      "Requirement already satisfied: ipython in /opt/anaconda3/lib/python3.9/site-packages (from ultralytics) (7.29.0)\n",
      "Requirement already satisfied: psutil in /opt/anaconda3/lib/python3.9/site-packages (from ultralytics) (5.8.0)\n",
      "Requirement already satisfied: thop>=0.1.1 in /opt/anaconda3/lib/python3.9/site-packages (from ultralytics) (0.1.1.post2209072238)\n",
      "Requirement already satisfied: wheel>=0.38.0 in /opt/anaconda3/lib/python3.9/site-packages (from ultralytics) (0.38.4)\n",
      "Requirement already satisfied: sentry-sdk in /opt/anaconda3/lib/python3.9/site-packages (from ultralytics) (1.29.2)\n",
      "Requirement already satisfied: cycler>=0.10 in /opt/anaconda3/lib/python3.9/site-packages (from matplotlib>=3.2.2->ultralytics) (0.10.0)\n",
      "Requirement already satisfied: kiwisolver>=1.0.1 in /opt/anaconda3/lib/python3.9/site-packages (from matplotlib>=3.2.2->ultralytics) (1.3.1)\n",
      "Requirement already satisfied: pyparsing>=2.2.1 in /opt/anaconda3/lib/python3.9/site-packages (from matplotlib>=3.2.2->ultralytics) (3.0.4)\n",
      "Requirement already satisfied: python-dateutil>=2.7 in /opt/anaconda3/lib/python3.9/site-packages (from matplotlib>=3.2.2->ultralytics) (2.8.2)\n",
      "Requirement already satisfied: pytz>=2017.3 in /opt/anaconda3/lib/python3.9/site-packages (from pandas>=1.1.4->ultralytics) (2021.3)\n",
      "Requirement already satisfied: urllib3<1.27,>=1.21.1 in /opt/anaconda3/lib/python3.9/site-packages (from requests>=2.23.0->ultralytics) (1.26.16)\n",
      "Requirement already satisfied: certifi>=2017.4.17 in /opt/anaconda3/lib/python3.9/site-packages (from requests>=2.23.0->ultralytics) (2022.12.7)\n",
      "Requirement already satisfied: charset-normalizer~=2.0.0 in /opt/anaconda3/lib/python3.9/site-packages (from requests>=2.23.0->ultralytics) (2.0.4)\n",
      "Requirement already satisfied: idna<4,>=2.5 in /opt/anaconda3/lib/python3.9/site-packages (from requests>=2.23.0->ultralytics) (2.10)\n",
      "Requirement already satisfied: absl-py>=0.4 in /opt/anaconda3/lib/python3.9/site-packages (from tensorboard>=2.4.1->ultralytics) (1.0.0)\n",
      "Requirement already satisfied: grpcio>=1.24.3 in /opt/anaconda3/lib/python3.9/site-packages (from tensorboard>=2.4.1->ultralytics) (1.57.0)\n",
      "Requirement already satisfied: google-auth<3,>=1.6.3 in /opt/anaconda3/lib/python3.9/site-packages (from tensorboard>=2.4.1->ultralytics) (2.22.0)\n",
      "Requirement already satisfied: google-auth-oauthlib<0.5,>=0.4.1 in /opt/anaconda3/lib/python3.9/site-packages (from tensorboard>=2.4.1->ultralytics) (0.4.6)\n",
      "Requirement already satisfied: markdown>=2.6.8 in /opt/anaconda3/lib/python3.9/site-packages (from tensorboard>=2.4.1->ultralytics) (3.3.7)\n",
      "Requirement already satisfied: protobuf>=3.6.0 in /opt/anaconda3/lib/python3.9/site-packages (from tensorboard>=2.4.1->ultralytics) (3.20.3)\n",
      "Requirement already satisfied: setuptools>=41.0.0 in /opt/anaconda3/lib/python3.9/site-packages (from tensorboard>=2.4.1->ultralytics) (67.4.0)\n",
      "Requirement already satisfied: tensorboard-data-server<0.7.0,>=0.6.0 in /opt/anaconda3/lib/python3.9/site-packages (from tensorboard>=2.4.1->ultralytics) (0.6.1)\n",
      "Requirement already satisfied: tensorboard-plugin-wit>=1.6.0 in /opt/anaconda3/lib/python3.9/site-packages (from tensorboard>=2.4.1->ultralytics) (1.8.1)\n",
      "Requirement already satisfied: werkzeug>=0.11.15 in /opt/anaconda3/lib/python3.9/site-packages (from tensorboard>=2.4.1->ultralytics) (2.0.2)\n",
      "Requirement already satisfied: typing-extensions in /opt/anaconda3/lib/python3.9/site-packages (from torch>=1.7.0->ultralytics) (4.6.3)\n",
      "Requirement already satisfied: jedi>=0.16 in /opt/anaconda3/lib/python3.9/site-packages (from ipython->ultralytics) (0.18.0)\n",
      "Requirement already satisfied: decorator in /opt/anaconda3/lib/python3.9/site-packages (from ipython->ultralytics) (5.1.0)\n",
      "Requirement already satisfied: pickleshare in /opt/anaconda3/lib/python3.9/site-packages (from ipython->ultralytics) (0.7.5)\n",
      "Requirement already satisfied: traitlets>=4.2 in /opt/anaconda3/lib/python3.9/site-packages (from ipython->ultralytics) (5.1.0)\n",
      "Requirement already satisfied: prompt-toolkit!=3.0.0,!=3.0.1,<3.1.0,>=2.0.0 in /opt/anaconda3/lib/python3.9/site-packages (from ipython->ultralytics) (3.0.20)\n",
      "Requirement already satisfied: pygments in /opt/anaconda3/lib/python3.9/site-packages (from ipython->ultralytics) (2.15.1)\n",
      "Requirement already satisfied: backcall in /opt/anaconda3/lib/python3.9/site-packages (from ipython->ultralytics) (0.2.0)\n",
      "Requirement already satisfied: matplotlib-inline in /opt/anaconda3/lib/python3.9/site-packages (from ipython->ultralytics) (0.1.2)\n",
      "Requirement already satisfied: pexpect>4.3 in /opt/anaconda3/lib/python3.9/site-packages (from ipython->ultralytics) (4.8.0)\n",
      "Requirement already satisfied: appnope in /opt/anaconda3/lib/python3.9/site-packages (from ipython->ultralytics) (0.1.2)\n",
      "Requirement already satisfied: six in /opt/anaconda3/lib/python3.9/site-packages (from absl-py>=0.4->tensorboard>=2.4.1->ultralytics) (1.16.0)\n",
      "Requirement already satisfied: cachetools<6.0,>=2.0.0 in /opt/anaconda3/lib/python3.9/site-packages (from google-auth<3,>=1.6.3->tensorboard>=2.4.1->ultralytics) (5.0.0)\n",
      "Requirement already satisfied: pyasn1-modules>=0.2.1 in /opt/anaconda3/lib/python3.9/site-packages (from google-auth<3,>=1.6.3->tensorboard>=2.4.1->ultralytics) (0.2.8)\n",
      "Requirement already satisfied: rsa<5,>=3.1.4 in /opt/anaconda3/lib/python3.9/site-packages (from google-auth<3,>=1.6.3->tensorboard>=2.4.1->ultralytics) (4.8)\n",
      "Requirement already satisfied: requests-oauthlib>=0.7.0 in /opt/anaconda3/lib/python3.9/site-packages (from google-auth-oauthlib<0.5,>=0.4.1->tensorboard>=2.4.1->ultralytics) (1.3.1)\n",
      "Requirement already satisfied: parso<0.9.0,>=0.8.0 in /opt/anaconda3/lib/python3.9/site-packages (from jedi>=0.16->ipython->ultralytics) (0.8.2)\n",
      "Requirement already satisfied: importlib-metadata>=4.4 in /opt/anaconda3/lib/python3.9/site-packages (from markdown>=2.6.8->tensorboard>=2.4.1->ultralytics) (4.8.1)\n",
      "Requirement already satisfied: ptyprocess>=0.5 in /opt/anaconda3/lib/python3.9/site-packages (from pexpect>4.3->ipython->ultralytics) (0.7.0)\n",
      "Requirement already satisfied: wcwidth in /opt/anaconda3/lib/python3.9/site-packages (from prompt-toolkit!=3.0.0,!=3.0.1,<3.1.0,>=2.0.0->ipython->ultralytics) (0.2.5)\n",
      "Requirement already satisfied: zipp>=0.5 in /opt/anaconda3/lib/python3.9/site-packages (from importlib-metadata>=4.4->markdown>=2.6.8->tensorboard>=2.4.1->ultralytics) (3.6.0)\n",
      "Requirement already satisfied: pyasn1<0.5.0,>=0.4.6 in /opt/anaconda3/lib/python3.9/site-packages (from pyasn1-modules>=0.2.1->google-auth<3,>=1.6.3->tensorboard>=2.4.1->ultralytics) (0.4.8)\n",
      "Requirement already satisfied: oauthlib>=3.0.0 in /opt/anaconda3/lib/python3.9/site-packages (from requests-oauthlib>=0.7.0->google-auth-oauthlib<0.5,>=0.4.1->tensorboard>=2.4.1->ultralytics) (3.2.0)\n",
      "\u001b[33mDEPRECATION: pyodbc 4.0.0-unsupported has a non-standard version number. pip 23.3 will enforce this behaviour change. A possible replacement is to upgrade to a newer version of pyodbc or contact the author to suggest that they release a version with a conforming version number. Discussion can be found at https://github.com/pypa/pip/issues/12063\u001b[0m\u001b[33m\n",
      "\u001b[0mNote: you may need to restart the kernel to use updated packages.\n"
     ]
    }
   ],
   "source": [
    "%pip install ultralytics\n",
    "import ultralytics\n",
    "ultralytics.checks()"
   ]
  }
 ],
 "metadata": {
  "kernelspec": {
   "display_name": "Python 3",
   "language": "python",
   "name": "python3"
  },
  "language_info": {
   "codemirror_mode": {
    "name": "ipython",
    "version": 3
   },
   "file_extension": ".py",
   "mimetype": "text/x-python",
   "name": "python",
   "nbconvert_exporter": "python",
   "pygments_lexer": "ipython3",
   "version": "3.9.7"
  },
  "orig_nbformat": 4
 },
 "nbformat": 4,
 "nbformat_minor": 2
}
